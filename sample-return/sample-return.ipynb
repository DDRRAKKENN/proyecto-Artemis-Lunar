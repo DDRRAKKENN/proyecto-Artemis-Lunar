{
 "cells": [
  {
   "cell_type": "markdown",
   "source": [
    "# Piedras lunares - Toma de desiciones - Prediccion para misiones Artemis\r\n",
    "\r\n",
    "En el siguiente analisis vamos a tratar de predecir la cantidad de material que debera traer las misiones [Artemis](https://www.nasa.gov/specials/artemis/) (proximamente misiones de la NASA) para poder complementar las piedras que pudieron ser traidas por las misiones Apolo.\r\n",
    "\r\n",
    "Para eso primero vamos a importar Pandas para poder manejar los datos a futuro desde python."
   ],
   "metadata": {}
  },
  {
   "cell_type": "code",
   "execution_count": null,
   "source": [
    "import pandas as pd"
   ],
   "outputs": [],
   "metadata": {}
  },
  {
   "cell_type": "markdown",
   "source": [
    "Debemos extraer datos de algun lado, para eso vamos a tomar una tabla con extension **CSV** para poder luego manipular sus datos con Pandas. Ese archivo se encuentra disponible abiertamente en el siguiente [Link](https://github.com/drguthals/learnwithdrg/tree/main/OverTheMoon/sample-return/data).\r\n",
    "\r\n",
    "Una vez descaragdo lo guardaremos en la carpeta \"data\" para manejarlo desde ahi y poder leerlo con Pandas.\r\n",
    "\r\n",
    "Para leer y manipular el archivo se usa el siguiente comando:"
   ],
   "metadata": {}
  },
  {
   "cell_type": "code",
   "execution_count": 33,
   "source": [
    "rock_samples=pd.read_csv('data/rocksamples.csv')"
   ],
   "outputs": [],
   "metadata": {}
  },
  {
   "cell_type": "markdown",
   "source": [
    "Ya tenemos a disposicion la lista de las piedras lunares, pero queremos ver como se muestra la lista, para eso usamos el comando que se ejecuta a continuacion"
   ],
   "metadata": {}
  },
  {
   "cell_type": "code",
   "execution_count": 34,
   "source": [
    "rock_samples.head(6)"
   ],
   "outputs": [
    {
     "output_type": "execute_result",
     "data": {
      "text/plain": [
       "      ID   Mission    Type   Subtype  Weight (g)  Pristine (%)\n",
       "0  10001  Apollo11    Soil  Unsieved       125.8         88.36\n",
       "1  10002  Apollo11    Soil  Unsieved      5629.0         93.73\n",
       "2  10003  Apollo11  Basalt  Ilmenite       213.0         65.56\n",
       "3  10004  Apollo11    Core  Unsieved        44.8         71.76\n",
       "4  10005  Apollo11    Core  Unsieved        53.4         40.31\n",
       "5  10008  Apollo11    Soil  Unsieved        89.0          5.75"
      ],
      "text/html": [
       "<div>\n",
       "<style scoped>\n",
       "    .dataframe tbody tr th:only-of-type {\n",
       "        vertical-align: middle;\n",
       "    }\n",
       "\n",
       "    .dataframe tbody tr th {\n",
       "        vertical-align: top;\n",
       "    }\n",
       "\n",
       "    .dataframe thead th {\n",
       "        text-align: right;\n",
       "    }\n",
       "</style>\n",
       "<table border=\"1\" class=\"dataframe\">\n",
       "  <thead>\n",
       "    <tr style=\"text-align: right;\">\n",
       "      <th></th>\n",
       "      <th>ID</th>\n",
       "      <th>Mission</th>\n",
       "      <th>Type</th>\n",
       "      <th>Subtype</th>\n",
       "      <th>Weight (g)</th>\n",
       "      <th>Pristine (%)</th>\n",
       "    </tr>\n",
       "  </thead>\n",
       "  <tbody>\n",
       "    <tr>\n",
       "      <th>0</th>\n",
       "      <td>10001</td>\n",
       "      <td>Apollo11</td>\n",
       "      <td>Soil</td>\n",
       "      <td>Unsieved</td>\n",
       "      <td>125.8</td>\n",
       "      <td>88.36</td>\n",
       "    </tr>\n",
       "    <tr>\n",
       "      <th>1</th>\n",
       "      <td>10002</td>\n",
       "      <td>Apollo11</td>\n",
       "      <td>Soil</td>\n",
       "      <td>Unsieved</td>\n",
       "      <td>5629.0</td>\n",
       "      <td>93.73</td>\n",
       "    </tr>\n",
       "    <tr>\n",
       "      <th>2</th>\n",
       "      <td>10003</td>\n",
       "      <td>Apollo11</td>\n",
       "      <td>Basalt</td>\n",
       "      <td>Ilmenite</td>\n",
       "      <td>213.0</td>\n",
       "      <td>65.56</td>\n",
       "    </tr>\n",
       "    <tr>\n",
       "      <th>3</th>\n",
       "      <td>10004</td>\n",
       "      <td>Apollo11</td>\n",
       "      <td>Core</td>\n",
       "      <td>Unsieved</td>\n",
       "      <td>44.8</td>\n",
       "      <td>71.76</td>\n",
       "    </tr>\n",
       "    <tr>\n",
       "      <th>4</th>\n",
       "      <td>10005</td>\n",
       "      <td>Apollo11</td>\n",
       "      <td>Core</td>\n",
       "      <td>Unsieved</td>\n",
       "      <td>53.4</td>\n",
       "      <td>40.31</td>\n",
       "    </tr>\n",
       "    <tr>\n",
       "      <th>5</th>\n",
       "      <td>10008</td>\n",
       "      <td>Apollo11</td>\n",
       "      <td>Soil</td>\n",
       "      <td>Unsieved</td>\n",
       "      <td>89.0</td>\n",
       "      <td>5.75</td>\n",
       "    </tr>\n",
       "  </tbody>\n",
       "</table>\n",
       "</div>"
      ]
     },
     "metadata": {},
     "execution_count": 34
    }
   ],
   "metadata": {}
  },
  {
   "cell_type": "code",
   "execution_count": 35,
   "source": [
    "rock_samples.info()"
   ],
   "outputs": [
    {
     "output_type": "stream",
     "name": "stdout",
     "text": [
      "<class 'pandas.core.frame.DataFrame'>\n",
      "RangeIndex: 2229 entries, 0 to 2228\n",
      "Data columns (total 6 columns):\n",
      " #   Column        Non-Null Count  Dtype  \n",
      "---  ------        --------------  -----  \n",
      " 0   ID            2229 non-null   int64  \n",
      " 1   Mission       2229 non-null   object \n",
      " 2   Type          2229 non-null   object \n",
      " 3   Subtype       2226 non-null   object \n",
      " 4   Weight (g)    2229 non-null   float64\n",
      " 5   Pristine (%)  2229 non-null   float64\n",
      "dtypes: float64(2), int64(1), object(3)\n",
      "memory usage: 104.6+ KB\n"
     ]
    }
   ],
   "metadata": {}
  },
  {
   "cell_type": "markdown",
   "source": [
    "### **Para tener en cuenta....**\r\n",
    "El peso del cohete se suele medir en kilogramos, no en gramos. Por tanto, para manipular los datos originales, los pesos de las muestras se deben convertir a kilogramos."
   ],
   "metadata": {}
  },
  {
   "cell_type": "code",
   "execution_count": 36,
   "source": [
    "rock_samples['Weight (g)'] = rock_samples['Weight (g)'].apply(lambda x : x * 0.001)\r\n",
    "rock_samples.rename(columns={'Weight (g)':'Weight (kg)'}, inplace=True)\r\n",
    "rock_samples.head()"
   ],
   "outputs": [
    {
     "output_type": "execute_result",
     "data": {
      "text/plain": [
       "      ID   Mission    Type   Subtype  Weight (kg)  Pristine (%)\n",
       "0  10001  Apollo11    Soil  Unsieved       0.1258         88.36\n",
       "1  10002  Apollo11    Soil  Unsieved       5.6290         93.73\n",
       "2  10003  Apollo11  Basalt  Ilmenite       0.2130         65.56\n",
       "3  10004  Apollo11    Core  Unsieved       0.0448         71.76\n",
       "4  10005  Apollo11    Core  Unsieved       0.0534         40.31"
      ],
      "text/html": [
       "<div>\n",
       "<style scoped>\n",
       "    .dataframe tbody tr th:only-of-type {\n",
       "        vertical-align: middle;\n",
       "    }\n",
       "\n",
       "    .dataframe tbody tr th {\n",
       "        vertical-align: top;\n",
       "    }\n",
       "\n",
       "    .dataframe thead th {\n",
       "        text-align: right;\n",
       "    }\n",
       "</style>\n",
       "<table border=\"1\" class=\"dataframe\">\n",
       "  <thead>\n",
       "    <tr style=\"text-align: right;\">\n",
       "      <th></th>\n",
       "      <th>ID</th>\n",
       "      <th>Mission</th>\n",
       "      <th>Type</th>\n",
       "      <th>Subtype</th>\n",
       "      <th>Weight (kg)</th>\n",
       "      <th>Pristine (%)</th>\n",
       "    </tr>\n",
       "  </thead>\n",
       "  <tbody>\n",
       "    <tr>\n",
       "      <th>0</th>\n",
       "      <td>10001</td>\n",
       "      <td>Apollo11</td>\n",
       "      <td>Soil</td>\n",
       "      <td>Unsieved</td>\n",
       "      <td>0.1258</td>\n",
       "      <td>88.36</td>\n",
       "    </tr>\n",
       "    <tr>\n",
       "      <th>1</th>\n",
       "      <td>10002</td>\n",
       "      <td>Apollo11</td>\n",
       "      <td>Soil</td>\n",
       "      <td>Unsieved</td>\n",
       "      <td>5.6290</td>\n",
       "      <td>93.73</td>\n",
       "    </tr>\n",
       "    <tr>\n",
       "      <th>2</th>\n",
       "      <td>10003</td>\n",
       "      <td>Apollo11</td>\n",
       "      <td>Basalt</td>\n",
       "      <td>Ilmenite</td>\n",
       "      <td>0.2130</td>\n",
       "      <td>65.56</td>\n",
       "    </tr>\n",
       "    <tr>\n",
       "      <th>3</th>\n",
       "      <td>10004</td>\n",
       "      <td>Apollo11</td>\n",
       "      <td>Core</td>\n",
       "      <td>Unsieved</td>\n",
       "      <td>0.0448</td>\n",
       "      <td>71.76</td>\n",
       "    </tr>\n",
       "    <tr>\n",
       "      <th>4</th>\n",
       "      <td>10005</td>\n",
       "      <td>Apollo11</td>\n",
       "      <td>Core</td>\n",
       "      <td>Unsieved</td>\n",
       "      <td>0.0534</td>\n",
       "      <td>40.31</td>\n",
       "    </tr>\n",
       "  </tbody>\n",
       "</table>\n",
       "</div>"
      ]
     },
     "metadata": {},
     "execution_count": 36
    }
   ],
   "metadata": {}
  },
  {
   "cell_type": "markdown",
   "source": [
    "En el anterior punto ademas de cambiar la unidad, notese el cambio del titulo de la columna.\r\n",
    "\r\n",
    "Se va a crear un elemento dataframe con el nombre missions; será un resumen de los datos de cada una de las seis misiones Apolo en las que se han traído muestras.Ademas se creara una columna con el nombre Mission (una fila por mision Apolo).\r\n",
    "\r\n",
    "Dentro de la funcion head colocamos 6 ya que sabemos que el archivo CSV contiene 6 misiones con sus datos.\r\n"
   ],
   "metadata": {}
  },
  {
   "cell_type": "code",
   "execution_count": 37,
   "source": [
    "missions = pd.DataFrame()\r\n",
    "missions['Mission'] = rock_samples['Mission'].unique()\r\n",
    "missions.head(6)"
   ],
   "outputs": [
    {
     "output_type": "execute_result",
     "data": {
      "text/plain": [
       "    Mission\n",
       "0  Apollo11\n",
       "1  Apollo12\n",
       "2  Apollo14\n",
       "3  Apollo15\n",
       "4  Apollo16\n",
       "5  Apollo17"
      ],
      "text/html": [
       "<div>\n",
       "<style scoped>\n",
       "    .dataframe tbody tr th:only-of-type {\n",
       "        vertical-align: middle;\n",
       "    }\n",
       "\n",
       "    .dataframe tbody tr th {\n",
       "        vertical-align: top;\n",
       "    }\n",
       "\n",
       "    .dataframe thead th {\n",
       "        text-align: right;\n",
       "    }\n",
       "</style>\n",
       "<table border=\"1\" class=\"dataframe\">\n",
       "  <thead>\n",
       "    <tr style=\"text-align: right;\">\n",
       "      <th></th>\n",
       "      <th>Mission</th>\n",
       "    </tr>\n",
       "  </thead>\n",
       "  <tbody>\n",
       "    <tr>\n",
       "      <th>0</th>\n",
       "      <td>Apollo11</td>\n",
       "    </tr>\n",
       "    <tr>\n",
       "      <th>1</th>\n",
       "      <td>Apollo12</td>\n",
       "    </tr>\n",
       "    <tr>\n",
       "      <th>2</th>\n",
       "      <td>Apollo14</td>\n",
       "    </tr>\n",
       "    <tr>\n",
       "      <th>3</th>\n",
       "      <td>Apollo15</td>\n",
       "    </tr>\n",
       "    <tr>\n",
       "      <th>4</th>\n",
       "      <td>Apollo16</td>\n",
       "    </tr>\n",
       "    <tr>\n",
       "      <th>5</th>\n",
       "      <td>Apollo17</td>\n",
       "    </tr>\n",
       "  </tbody>\n",
       "</table>\n",
       "</div>"
      ]
     },
     "metadata": {},
     "execution_count": 37
    }
   ],
   "metadata": {}
  },
  {
   "cell_type": "markdown",
   "source": [
    "## **Suma total del peso de las muestras por misión**\r\n",
    "\r\n",
    "Ahora puede agregar una columna nueva a missions para representar la suma de todas las muestras obtenidas durante esa misión."
   ],
   "metadata": {}
  },
  {
   "cell_type": "code",
   "execution_count": 38,
   "source": [
    "sample_total_weight = rock_samples.groupby('Mission')['Weight (kg)'].sum()\r\n",
    "missions = pd.merge(missions, sample_total_weight, on='Mission')\r\n",
    "missions.rename(columns={'Weight (kg)':'Sample weight (kg)'}, inplace=True)\r\n",
    "missions"
   ],
   "outputs": [
    {
     "output_type": "execute_result",
     "data": {
      "text/plain": [
       "    Mission  Sample weight (kg)\n",
       "0  Apollo11            21.55424\n",
       "1  Apollo12            34.34238\n",
       "2  Apollo14            41.83363\n",
       "3  Apollo15            75.39910\n",
       "4  Apollo16            92.46262\n",
       "5  Apollo17           109.44402"
      ],
      "text/html": [
       "<div>\n",
       "<style scoped>\n",
       "    .dataframe tbody tr th:only-of-type {\n",
       "        vertical-align: middle;\n",
       "    }\n",
       "\n",
       "    .dataframe tbody tr th {\n",
       "        vertical-align: top;\n",
       "    }\n",
       "\n",
       "    .dataframe thead th {\n",
       "        text-align: right;\n",
       "    }\n",
       "</style>\n",
       "<table border=\"1\" class=\"dataframe\">\n",
       "  <thead>\n",
       "    <tr style=\"text-align: right;\">\n",
       "      <th></th>\n",
       "      <th>Mission</th>\n",
       "      <th>Sample weight (kg)</th>\n",
       "    </tr>\n",
       "  </thead>\n",
       "  <tbody>\n",
       "    <tr>\n",
       "      <th>0</th>\n",
       "      <td>Apollo11</td>\n",
       "      <td>21.55424</td>\n",
       "    </tr>\n",
       "    <tr>\n",
       "      <th>1</th>\n",
       "      <td>Apollo12</td>\n",
       "      <td>34.34238</td>\n",
       "    </tr>\n",
       "    <tr>\n",
       "      <th>2</th>\n",
       "      <td>Apollo14</td>\n",
       "      <td>41.83363</td>\n",
       "    </tr>\n",
       "    <tr>\n",
       "      <th>3</th>\n",
       "      <td>Apollo15</td>\n",
       "      <td>75.39910</td>\n",
       "    </tr>\n",
       "    <tr>\n",
       "      <th>4</th>\n",
       "      <td>Apollo16</td>\n",
       "      <td>92.46262</td>\n",
       "    </tr>\n",
       "    <tr>\n",
       "      <th>5</th>\n",
       "      <td>Apollo17</td>\n",
       "      <td>109.44402</td>\n",
       "    </tr>\n",
       "  </tbody>\n",
       "</table>\n",
       "</div>"
      ]
     },
     "metadata": {},
     "execution_count": 38
    }
   ],
   "metadata": {}
  },
  {
   "cell_type": "markdown",
   "source": [
    "## **Obtención de la diferencia de pesos entre misiones**\r\n",
    "\r\n",
    "En el siguiente paso lo que vamos a hacer es sacar la diferencia de pesos entre las diferentes misiones para saber como fue aumentando o bajando la cantidad de material que se trajo de la luna. Para eso vamos a agregar una nueva columna que nos muestre la diferencia entre las misiones."
   ],
   "metadata": {}
  },
  {
   "cell_type": "code",
   "execution_count": 39,
   "source": [
    "missions['Weight diff'] = missions['Sample weight (kg)'].diff()\r\n",
    "missions"
   ],
   "outputs": [
    {
     "output_type": "execute_result",
     "data": {
      "text/plain": [
       "    Mission  Sample weight (kg)  Weight diff\n",
       "0  Apollo11            21.55424          NaN\n",
       "1  Apollo12            34.34238     12.78814\n",
       "2  Apollo14            41.83363      7.49125\n",
       "3  Apollo15            75.39910     33.56547\n",
       "4  Apollo16            92.46262     17.06352\n",
       "5  Apollo17           109.44402     16.98140"
      ],
      "text/html": [
       "<div>\n",
       "<style scoped>\n",
       "    .dataframe tbody tr th:only-of-type {\n",
       "        vertical-align: middle;\n",
       "    }\n",
       "\n",
       "    .dataframe tbody tr th {\n",
       "        vertical-align: top;\n",
       "    }\n",
       "\n",
       "    .dataframe thead th {\n",
       "        text-align: right;\n",
       "    }\n",
       "</style>\n",
       "<table border=\"1\" class=\"dataframe\">\n",
       "  <thead>\n",
       "    <tr style=\"text-align: right;\">\n",
       "      <th></th>\n",
       "      <th>Mission</th>\n",
       "      <th>Sample weight (kg)</th>\n",
       "      <th>Weight diff</th>\n",
       "    </tr>\n",
       "  </thead>\n",
       "  <tbody>\n",
       "    <tr>\n",
       "      <th>0</th>\n",
       "      <td>Apollo11</td>\n",
       "      <td>21.55424</td>\n",
       "      <td>NaN</td>\n",
       "    </tr>\n",
       "    <tr>\n",
       "      <th>1</th>\n",
       "      <td>Apollo12</td>\n",
       "      <td>34.34238</td>\n",
       "      <td>12.78814</td>\n",
       "    </tr>\n",
       "    <tr>\n",
       "      <th>2</th>\n",
       "      <td>Apollo14</td>\n",
       "      <td>41.83363</td>\n",
       "      <td>7.49125</td>\n",
       "    </tr>\n",
       "    <tr>\n",
       "      <th>3</th>\n",
       "      <td>Apollo15</td>\n",
       "      <td>75.39910</td>\n",
       "      <td>33.56547</td>\n",
       "    </tr>\n",
       "    <tr>\n",
       "      <th>4</th>\n",
       "      <td>Apollo16</td>\n",
       "      <td>92.46262</td>\n",
       "      <td>17.06352</td>\n",
       "    </tr>\n",
       "    <tr>\n",
       "      <th>5</th>\n",
       "      <td>Apollo17</td>\n",
       "      <td>109.44402</td>\n",
       "      <td>16.98140</td>\n",
       "    </tr>\n",
       "  </tbody>\n",
       "</table>\n",
       "</div>"
      ]
     },
     "metadata": {},
     "execution_count": 39
    }
   ],
   "metadata": {}
  },
  {
   "cell_type": "markdown",
   "source": [
    "Como la primer fila de diferencia de pesos no puedo compararse ya que no tiene un valor previo nos da un valor **NaN**, para hacerlo mas \"manejable\" vamos a convertir este valor a 0 para que la columna solo maneje valores numericos."
   ],
   "metadata": {}
  },
  {
   "cell_type": "code",
   "execution_count": 40,
   "source": [
    "missions['Weight diff'] = missions['Weight diff'].fillna(value=0)\r\n",
    "missions"
   ],
   "outputs": [
    {
     "output_type": "execute_result",
     "data": {
      "text/plain": [
       "    Mission  Sample weight (kg)  Weight diff\n",
       "0  Apollo11            21.55424      0.00000\n",
       "1  Apollo12            34.34238     12.78814\n",
       "2  Apollo14            41.83363      7.49125\n",
       "3  Apollo15            75.39910     33.56547\n",
       "4  Apollo16            92.46262     17.06352\n",
       "5  Apollo17           109.44402     16.98140"
      ],
      "text/html": [
       "<div>\n",
       "<style scoped>\n",
       "    .dataframe tbody tr th:only-of-type {\n",
       "        vertical-align: middle;\n",
       "    }\n",
       "\n",
       "    .dataframe tbody tr th {\n",
       "        vertical-align: top;\n",
       "    }\n",
       "\n",
       "    .dataframe thead th {\n",
       "        text-align: right;\n",
       "    }\n",
       "</style>\n",
       "<table border=\"1\" class=\"dataframe\">\n",
       "  <thead>\n",
       "    <tr style=\"text-align: right;\">\n",
       "      <th></th>\n",
       "      <th>Mission</th>\n",
       "      <th>Sample weight (kg)</th>\n",
       "      <th>Weight diff</th>\n",
       "    </tr>\n",
       "  </thead>\n",
       "  <tbody>\n",
       "    <tr>\n",
       "      <th>0</th>\n",
       "      <td>Apollo11</td>\n",
       "      <td>21.55424</td>\n",
       "      <td>0.00000</td>\n",
       "    </tr>\n",
       "    <tr>\n",
       "      <th>1</th>\n",
       "      <td>Apollo12</td>\n",
       "      <td>34.34238</td>\n",
       "      <td>12.78814</td>\n",
       "    </tr>\n",
       "    <tr>\n",
       "      <th>2</th>\n",
       "      <td>Apollo14</td>\n",
       "      <td>41.83363</td>\n",
       "      <td>7.49125</td>\n",
       "    </tr>\n",
       "    <tr>\n",
       "      <th>3</th>\n",
       "      <td>Apollo15</td>\n",
       "      <td>75.39910</td>\n",
       "      <td>33.56547</td>\n",
       "    </tr>\n",
       "    <tr>\n",
       "      <th>4</th>\n",
       "      <td>Apollo16</td>\n",
       "      <td>92.46262</td>\n",
       "      <td>17.06352</td>\n",
       "    </tr>\n",
       "    <tr>\n",
       "      <th>5</th>\n",
       "      <td>Apollo17</td>\n",
       "      <td>109.44402</td>\n",
       "      <td>16.98140</td>\n",
       "    </tr>\n",
       "  </tbody>\n",
       "</table>\n",
       "</div>"
      ]
     },
     "metadata": {},
     "execution_count": 40
    }
   ],
   "metadata": {}
  },
  {
   "cell_type": "markdown",
   "source": [
    "Muy bien, hasta ahora pudimos manejar los datos de pesos de las piedras lunares, pero que hay del peso mismo del cohete y modulo lunar? es importante tener en cuenta estos datos ya que el peso de estos elementos determinara muchas cosas dentro de la mision, por eso a continuacion pasaremos a otra fase del analisis propuesto hasta ahora.\r\n",
    "\r\n",
    "## **Agregando módulos de mando y lunar**\r\n",
    "\r\n",
    "Con ayuda del [Archivo coordinado de datos de ciencia espacial de la NASA](https://nssdc.gsfc.nasa.gov/nmc/SpacecraftQuery.jsp), se ha obtenido información sobre cada uno de los módulos que se usa en cada misión.Lo que hacemos ahora es agregar 6 columnas (3 por modulos lunares y 3 por modulos de mando) como el detalles a continuacion:\r\n",
    "\r\n",
    "Por cada modulo tendra las siguientes columnas:\r\n",
    "    \r\n",
    "    Nombre del módulo\r\n",
    "    Masa del módulo\r\n",
    "    Diferencia de la masa del módulo\r\n",
    "\r\n",
    "los valores de **NaN** se convertiran a 0 para mantener numeros manejables en la tabla.\r\n",
    "\r\n"
   ],
   "metadata": {}
  },
  {
   "cell_type": "code",
   "execution_count": 41,
   "source": [
    "missions['Lunar module (LM)'] = {'Eagle (LM-5)', 'Intrepid (LM-6)', 'Antares (LM-8)', 'Falcon (LM-10)', 'Orion (LM-11)', 'Challenger (LM-12)'}\r\n",
    "missions['LM mass (kg)'] = {15103, 15235, 15264, 16430, 16445, 16456}\r\n",
    "missions['LM mass diff'] = missions['LM mass (kg)'].diff()\r\n",
    "missions['LM mass diff'] = missions['LM mass diff'].fillna(value=0)\r\n",
    "\r\n",
    "missions['Command module (CM)'] = {'Columbia (CSM-107)', 'Yankee Clipper (CM-108)', 'Kitty Hawk (CM-110)', 'Endeavor (CM-112)', 'Casper (CM-113)', 'America (CM-114)'}\r\n",
    "missions['CM mass (kg)'] = {5560, 5609, 5758, 5875, 5840, 5960}\r\n",
    "missions['CM mass diff'] = missions['CM mass (kg)'].diff()\r\n",
    "missions['CM mass diff'] = missions['CM mass diff'].fillna(value=0)\r\n",
    "\r\n",
    "missions"
   ],
   "outputs": [
    {
     "output_type": "execute_result",
     "data": {
      "text/plain": [
       "    Mission  Sample weight (kg)  Weight diff   Lunar module (LM)  \\\n",
       "0  Apollo11            21.55424      0.00000      Antares (LM-8)   \n",
       "1  Apollo12            34.34238     12.78814        Eagle (LM-5)   \n",
       "2  Apollo14            41.83363      7.49125  Challenger (LM-12)   \n",
       "3  Apollo15            75.39910     33.56547      Falcon (LM-10)   \n",
       "4  Apollo16            92.46262     17.06352       Orion (LM-11)   \n",
       "5  Apollo17           109.44402     16.98140     Intrepid (LM-6)   \n",
       "\n",
       "   LM mass (kg)  LM mass diff      Command module (CM)  CM mass (kg)  \\\n",
       "0         15264           0.0      Kitty Hawk (CM-110)          5960   \n",
       "1         15235         -29.0       Columbia (CSM-107)          5609   \n",
       "2         16456        1221.0         America (CM-114)          5840   \n",
       "3         16430         -26.0        Endeavor (CM-112)          5875   \n",
       "4         16445          15.0  Yankee Clipper (CM-108)          5560   \n",
       "5         15103       -1342.0          Casper (CM-113)          5758   \n",
       "\n",
       "   CM mass diff  \n",
       "0           0.0  \n",
       "1        -351.0  \n",
       "2         231.0  \n",
       "3          35.0  \n",
       "4        -315.0  \n",
       "5         198.0  "
      ],
      "text/html": [
       "<div>\n",
       "<style scoped>\n",
       "    .dataframe tbody tr th:only-of-type {\n",
       "        vertical-align: middle;\n",
       "    }\n",
       "\n",
       "    .dataframe tbody tr th {\n",
       "        vertical-align: top;\n",
       "    }\n",
       "\n",
       "    .dataframe thead th {\n",
       "        text-align: right;\n",
       "    }\n",
       "</style>\n",
       "<table border=\"1\" class=\"dataframe\">\n",
       "  <thead>\n",
       "    <tr style=\"text-align: right;\">\n",
       "      <th></th>\n",
       "      <th>Mission</th>\n",
       "      <th>Sample weight (kg)</th>\n",
       "      <th>Weight diff</th>\n",
       "      <th>Lunar module (LM)</th>\n",
       "      <th>LM mass (kg)</th>\n",
       "      <th>LM mass diff</th>\n",
       "      <th>Command module (CM)</th>\n",
       "      <th>CM mass (kg)</th>\n",
       "      <th>CM mass diff</th>\n",
       "    </tr>\n",
       "  </thead>\n",
       "  <tbody>\n",
       "    <tr>\n",
       "      <th>0</th>\n",
       "      <td>Apollo11</td>\n",
       "      <td>21.55424</td>\n",
       "      <td>0.00000</td>\n",
       "      <td>Antares (LM-8)</td>\n",
       "      <td>15264</td>\n",
       "      <td>0.0</td>\n",
       "      <td>Kitty Hawk (CM-110)</td>\n",
       "      <td>5960</td>\n",
       "      <td>0.0</td>\n",
       "    </tr>\n",
       "    <tr>\n",
       "      <th>1</th>\n",
       "      <td>Apollo12</td>\n",
       "      <td>34.34238</td>\n",
       "      <td>12.78814</td>\n",
       "      <td>Eagle (LM-5)</td>\n",
       "      <td>15235</td>\n",
       "      <td>-29.0</td>\n",
       "      <td>Columbia (CSM-107)</td>\n",
       "      <td>5609</td>\n",
       "      <td>-351.0</td>\n",
       "    </tr>\n",
       "    <tr>\n",
       "      <th>2</th>\n",
       "      <td>Apollo14</td>\n",
       "      <td>41.83363</td>\n",
       "      <td>7.49125</td>\n",
       "      <td>Challenger (LM-12)</td>\n",
       "      <td>16456</td>\n",
       "      <td>1221.0</td>\n",
       "      <td>America (CM-114)</td>\n",
       "      <td>5840</td>\n",
       "      <td>231.0</td>\n",
       "    </tr>\n",
       "    <tr>\n",
       "      <th>3</th>\n",
       "      <td>Apollo15</td>\n",
       "      <td>75.39910</td>\n",
       "      <td>33.56547</td>\n",
       "      <td>Falcon (LM-10)</td>\n",
       "      <td>16430</td>\n",
       "      <td>-26.0</td>\n",
       "      <td>Endeavor (CM-112)</td>\n",
       "      <td>5875</td>\n",
       "      <td>35.0</td>\n",
       "    </tr>\n",
       "    <tr>\n",
       "      <th>4</th>\n",
       "      <td>Apollo16</td>\n",
       "      <td>92.46262</td>\n",
       "      <td>17.06352</td>\n",
       "      <td>Orion (LM-11)</td>\n",
       "      <td>16445</td>\n",
       "      <td>15.0</td>\n",
       "      <td>Yankee Clipper (CM-108)</td>\n",
       "      <td>5560</td>\n",
       "      <td>-315.0</td>\n",
       "    </tr>\n",
       "    <tr>\n",
       "      <th>5</th>\n",
       "      <td>Apollo17</td>\n",
       "      <td>109.44402</td>\n",
       "      <td>16.98140</td>\n",
       "      <td>Intrepid (LM-6)</td>\n",
       "      <td>15103</td>\n",
       "      <td>-1342.0</td>\n",
       "      <td>Casper (CM-113)</td>\n",
       "      <td>5758</td>\n",
       "      <td>198.0</td>\n",
       "    </tr>\n",
       "  </tbody>\n",
       "</table>\n",
       "</div>"
      ]
     },
     "metadata": {},
     "execution_count": 41
    }
   ],
   "metadata": {}
  },
  {
   "cell_type": "markdown",
   "source": [
    "Podemos agregar el peso total de las misiones y la diferencia entre ellos."
   ],
   "metadata": {}
  },
  {
   "cell_type": "code",
   "execution_count": 42,
   "source": [
    "missions['Total weight (kg)'] = missions['LM mass (kg)'] + missions['CM mass (kg)']\r\n",
    "missions['Total weight diff'] = missions['LM mass diff'] + missions['CM mass diff']\r\n",
    "missions"
   ],
   "outputs": [
    {
     "output_type": "execute_result",
     "data": {
      "text/plain": [
       "    Mission  Sample weight (kg)  Weight diff   Lunar module (LM)  \\\n",
       "0  Apollo11            21.55424      0.00000      Antares (LM-8)   \n",
       "1  Apollo12            34.34238     12.78814        Eagle (LM-5)   \n",
       "2  Apollo14            41.83363      7.49125  Challenger (LM-12)   \n",
       "3  Apollo15            75.39910     33.56547      Falcon (LM-10)   \n",
       "4  Apollo16            92.46262     17.06352       Orion (LM-11)   \n",
       "5  Apollo17           109.44402     16.98140     Intrepid (LM-6)   \n",
       "\n",
       "   LM mass (kg)  LM mass diff      Command module (CM)  CM mass (kg)  \\\n",
       "0         15264           0.0      Kitty Hawk (CM-110)          5960   \n",
       "1         15235         -29.0       Columbia (CSM-107)          5609   \n",
       "2         16456        1221.0         America (CM-114)          5840   \n",
       "3         16430         -26.0        Endeavor (CM-112)          5875   \n",
       "4         16445          15.0  Yankee Clipper (CM-108)          5560   \n",
       "5         15103       -1342.0          Casper (CM-113)          5758   \n",
       "\n",
       "   CM mass diff  Total weight (kg)  Total weight diff  \n",
       "0           0.0              21224                0.0  \n",
       "1        -351.0              20844             -380.0  \n",
       "2         231.0              22296             1452.0  \n",
       "3          35.0              22305                9.0  \n",
       "4        -315.0              22005             -300.0  \n",
       "5         198.0              20861            -1144.0  "
      ],
      "text/html": [
       "<div>\n",
       "<style scoped>\n",
       "    .dataframe tbody tr th:only-of-type {\n",
       "        vertical-align: middle;\n",
       "    }\n",
       "\n",
       "    .dataframe tbody tr th {\n",
       "        vertical-align: top;\n",
       "    }\n",
       "\n",
       "    .dataframe thead th {\n",
       "        text-align: right;\n",
       "    }\n",
       "</style>\n",
       "<table border=\"1\" class=\"dataframe\">\n",
       "  <thead>\n",
       "    <tr style=\"text-align: right;\">\n",
       "      <th></th>\n",
       "      <th>Mission</th>\n",
       "      <th>Sample weight (kg)</th>\n",
       "      <th>Weight diff</th>\n",
       "      <th>Lunar module (LM)</th>\n",
       "      <th>LM mass (kg)</th>\n",
       "      <th>LM mass diff</th>\n",
       "      <th>Command module (CM)</th>\n",
       "      <th>CM mass (kg)</th>\n",
       "      <th>CM mass diff</th>\n",
       "      <th>Total weight (kg)</th>\n",
       "      <th>Total weight diff</th>\n",
       "    </tr>\n",
       "  </thead>\n",
       "  <tbody>\n",
       "    <tr>\n",
       "      <th>0</th>\n",
       "      <td>Apollo11</td>\n",
       "      <td>21.55424</td>\n",
       "      <td>0.00000</td>\n",
       "      <td>Antares (LM-8)</td>\n",
       "      <td>15264</td>\n",
       "      <td>0.0</td>\n",
       "      <td>Kitty Hawk (CM-110)</td>\n",
       "      <td>5960</td>\n",
       "      <td>0.0</td>\n",
       "      <td>21224</td>\n",
       "      <td>0.0</td>\n",
       "    </tr>\n",
       "    <tr>\n",
       "      <th>1</th>\n",
       "      <td>Apollo12</td>\n",
       "      <td>34.34238</td>\n",
       "      <td>12.78814</td>\n",
       "      <td>Eagle (LM-5)</td>\n",
       "      <td>15235</td>\n",
       "      <td>-29.0</td>\n",
       "      <td>Columbia (CSM-107)</td>\n",
       "      <td>5609</td>\n",
       "      <td>-351.0</td>\n",
       "      <td>20844</td>\n",
       "      <td>-380.0</td>\n",
       "    </tr>\n",
       "    <tr>\n",
       "      <th>2</th>\n",
       "      <td>Apollo14</td>\n",
       "      <td>41.83363</td>\n",
       "      <td>7.49125</td>\n",
       "      <td>Challenger (LM-12)</td>\n",
       "      <td>16456</td>\n",
       "      <td>1221.0</td>\n",
       "      <td>America (CM-114)</td>\n",
       "      <td>5840</td>\n",
       "      <td>231.0</td>\n",
       "      <td>22296</td>\n",
       "      <td>1452.0</td>\n",
       "    </tr>\n",
       "    <tr>\n",
       "      <th>3</th>\n",
       "      <td>Apollo15</td>\n",
       "      <td>75.39910</td>\n",
       "      <td>33.56547</td>\n",
       "      <td>Falcon (LM-10)</td>\n",
       "      <td>16430</td>\n",
       "      <td>-26.0</td>\n",
       "      <td>Endeavor (CM-112)</td>\n",
       "      <td>5875</td>\n",
       "      <td>35.0</td>\n",
       "      <td>22305</td>\n",
       "      <td>9.0</td>\n",
       "    </tr>\n",
       "    <tr>\n",
       "      <th>4</th>\n",
       "      <td>Apollo16</td>\n",
       "      <td>92.46262</td>\n",
       "      <td>17.06352</td>\n",
       "      <td>Orion (LM-11)</td>\n",
       "      <td>16445</td>\n",
       "      <td>15.0</td>\n",
       "      <td>Yankee Clipper (CM-108)</td>\n",
       "      <td>5560</td>\n",
       "      <td>-315.0</td>\n",
       "      <td>22005</td>\n",
       "      <td>-300.0</td>\n",
       "    </tr>\n",
       "    <tr>\n",
       "      <th>5</th>\n",
       "      <td>Apollo17</td>\n",
       "      <td>109.44402</td>\n",
       "      <td>16.98140</td>\n",
       "      <td>Intrepid (LM-6)</td>\n",
       "      <td>15103</td>\n",
       "      <td>-1342.0</td>\n",
       "      <td>Casper (CM-113)</td>\n",
       "      <td>5758</td>\n",
       "      <td>198.0</td>\n",
       "      <td>20861</td>\n",
       "      <td>-1144.0</td>\n",
       "    </tr>\n",
       "  </tbody>\n",
       "</table>\n",
       "</div>"
      ]
     },
     "metadata": {},
     "execution_count": 42
    }
   ],
   "metadata": {}
  },
  {
   "cell_type": "markdown",
   "source": [
    "## **Comparación de los datos**\r\n",
    "\r\n",
    "Nuestro objetivo es predecir la cantidad de muestras que podria traer cada mision Artemis, pero no tenemos informacion (por ahora, julio 2021) sobre los datos tecnicos de que tipo de vehiculo se va a utilizar. Lo que si tenemos es una hoja con los datos del [Sistema de Lanzamiento Espacial (SLS) y de los modulos Orion](https://www.nasa.gov/sites/default/files/atoms/files/0080_sls_fact_sheet_sept2020_09082020_final_0.pdf), podemos extraer de ahi pesos y las cargas.\r\n",
    "\r\n",
    "Entendemos como \"carga\"a la cantidad total de peso que un cohete puede transportar al espacio. Obviamente la decision de la carga afecta al diseño de los cohetes y viceversa.\r\n",
    "\r\n",
    "Se sabe que la carga del Saturno V era 43 500 kg y que los pesos de los módulos han variado de una misión a otra. Por tanto, para determinar las proporciones que permitirán realizar predicciones sobre las misiones Artemis, se puede usar lo siguiente:\r\n",
    "\r\n",
    "    Carga de Saturno V\r\n",
    "    Peso de las muestras de la misión\r\n",
    "    Peso de los módulos de la misión"
   ],
   "metadata": {}
  },
  {
   "cell_type": "code",
   "execution_count": 43,
   "source": [
    "saturnVPayload = 43500\r\n",
    "missions['Crewed area : Payload'] = missions['Total weight (kg)'] / saturnVPayload\r\n",
    "missions['Sample : Crewed area'] = missions['Sample weight (kg)'] / missions['Total weight (kg)']\r\n",
    "missions['Sample : Payload'] = missions['Sample weight (kg)'] / saturnVPayload\r\n",
    "missions"
   ],
   "outputs": [
    {
     "output_type": "execute_result",
     "data": {
      "text/plain": [
       "    Mission  Sample weight (kg)  Weight diff   Lunar module (LM)  \\\n",
       "0  Apollo11            21.55424      0.00000      Antares (LM-8)   \n",
       "1  Apollo12            34.34238     12.78814        Eagle (LM-5)   \n",
       "2  Apollo14            41.83363      7.49125  Challenger (LM-12)   \n",
       "3  Apollo15            75.39910     33.56547      Falcon (LM-10)   \n",
       "4  Apollo16            92.46262     17.06352       Orion (LM-11)   \n",
       "5  Apollo17           109.44402     16.98140     Intrepid (LM-6)   \n",
       "\n",
       "   LM mass (kg)  LM mass diff      Command module (CM)  CM mass (kg)  \\\n",
       "0         15264           0.0      Kitty Hawk (CM-110)          5960   \n",
       "1         15235         -29.0       Columbia (CSM-107)          5609   \n",
       "2         16456        1221.0         America (CM-114)          5840   \n",
       "3         16430         -26.0        Endeavor (CM-112)          5875   \n",
       "4         16445          15.0  Yankee Clipper (CM-108)          5560   \n",
       "5         15103       -1342.0          Casper (CM-113)          5758   \n",
       "\n",
       "   CM mass diff  Total weight (kg)  Total weight diff  Crewed area : Payload  \\\n",
       "0           0.0              21224                0.0               0.487908   \n",
       "1        -351.0              20844             -380.0               0.479172   \n",
       "2         231.0              22296             1452.0               0.512552   \n",
       "3          35.0              22305                9.0               0.512759   \n",
       "4        -315.0              22005             -300.0               0.505862   \n",
       "5         198.0              20861            -1144.0               0.479563   \n",
       "\n",
       "   Sample : Crewed area  Sample : Payload  \n",
       "0              0.001016          0.000495  \n",
       "1              0.001648          0.000789  \n",
       "2              0.001876          0.000962  \n",
       "3              0.003380          0.001733  \n",
       "4              0.004202          0.002126  \n",
       "5              0.005246          0.002516  "
      ],
      "text/html": [
       "<div>\n",
       "<style scoped>\n",
       "    .dataframe tbody tr th:only-of-type {\n",
       "        vertical-align: middle;\n",
       "    }\n",
       "\n",
       "    .dataframe tbody tr th {\n",
       "        vertical-align: top;\n",
       "    }\n",
       "\n",
       "    .dataframe thead th {\n",
       "        text-align: right;\n",
       "    }\n",
       "</style>\n",
       "<table border=\"1\" class=\"dataframe\">\n",
       "  <thead>\n",
       "    <tr style=\"text-align: right;\">\n",
       "      <th></th>\n",
       "      <th>Mission</th>\n",
       "      <th>Sample weight (kg)</th>\n",
       "      <th>Weight diff</th>\n",
       "      <th>Lunar module (LM)</th>\n",
       "      <th>LM mass (kg)</th>\n",
       "      <th>LM mass diff</th>\n",
       "      <th>Command module (CM)</th>\n",
       "      <th>CM mass (kg)</th>\n",
       "      <th>CM mass diff</th>\n",
       "      <th>Total weight (kg)</th>\n",
       "      <th>Total weight diff</th>\n",
       "      <th>Crewed area : Payload</th>\n",
       "      <th>Sample : Crewed area</th>\n",
       "      <th>Sample : Payload</th>\n",
       "    </tr>\n",
       "  </thead>\n",
       "  <tbody>\n",
       "    <tr>\n",
       "      <th>0</th>\n",
       "      <td>Apollo11</td>\n",
       "      <td>21.55424</td>\n",
       "      <td>0.00000</td>\n",
       "      <td>Antares (LM-8)</td>\n",
       "      <td>15264</td>\n",
       "      <td>0.0</td>\n",
       "      <td>Kitty Hawk (CM-110)</td>\n",
       "      <td>5960</td>\n",
       "      <td>0.0</td>\n",
       "      <td>21224</td>\n",
       "      <td>0.0</td>\n",
       "      <td>0.487908</td>\n",
       "      <td>0.001016</td>\n",
       "      <td>0.000495</td>\n",
       "    </tr>\n",
       "    <tr>\n",
       "      <th>1</th>\n",
       "      <td>Apollo12</td>\n",
       "      <td>34.34238</td>\n",
       "      <td>12.78814</td>\n",
       "      <td>Eagle (LM-5)</td>\n",
       "      <td>15235</td>\n",
       "      <td>-29.0</td>\n",
       "      <td>Columbia (CSM-107)</td>\n",
       "      <td>5609</td>\n",
       "      <td>-351.0</td>\n",
       "      <td>20844</td>\n",
       "      <td>-380.0</td>\n",
       "      <td>0.479172</td>\n",
       "      <td>0.001648</td>\n",
       "      <td>0.000789</td>\n",
       "    </tr>\n",
       "    <tr>\n",
       "      <th>2</th>\n",
       "      <td>Apollo14</td>\n",
       "      <td>41.83363</td>\n",
       "      <td>7.49125</td>\n",
       "      <td>Challenger (LM-12)</td>\n",
       "      <td>16456</td>\n",
       "      <td>1221.0</td>\n",
       "      <td>America (CM-114)</td>\n",
       "      <td>5840</td>\n",
       "      <td>231.0</td>\n",
       "      <td>22296</td>\n",
       "      <td>1452.0</td>\n",
       "      <td>0.512552</td>\n",
       "      <td>0.001876</td>\n",
       "      <td>0.000962</td>\n",
       "    </tr>\n",
       "    <tr>\n",
       "      <th>3</th>\n",
       "      <td>Apollo15</td>\n",
       "      <td>75.39910</td>\n",
       "      <td>33.56547</td>\n",
       "      <td>Falcon (LM-10)</td>\n",
       "      <td>16430</td>\n",
       "      <td>-26.0</td>\n",
       "      <td>Endeavor (CM-112)</td>\n",
       "      <td>5875</td>\n",
       "      <td>35.0</td>\n",
       "      <td>22305</td>\n",
       "      <td>9.0</td>\n",
       "      <td>0.512759</td>\n",
       "      <td>0.003380</td>\n",
       "      <td>0.001733</td>\n",
       "    </tr>\n",
       "    <tr>\n",
       "      <th>4</th>\n",
       "      <td>Apollo16</td>\n",
       "      <td>92.46262</td>\n",
       "      <td>17.06352</td>\n",
       "      <td>Orion (LM-11)</td>\n",
       "      <td>16445</td>\n",
       "      <td>15.0</td>\n",
       "      <td>Yankee Clipper (CM-108)</td>\n",
       "      <td>5560</td>\n",
       "      <td>-315.0</td>\n",
       "      <td>22005</td>\n",
       "      <td>-300.0</td>\n",
       "      <td>0.505862</td>\n",
       "      <td>0.004202</td>\n",
       "      <td>0.002126</td>\n",
       "    </tr>\n",
       "    <tr>\n",
       "      <th>5</th>\n",
       "      <td>Apollo17</td>\n",
       "      <td>109.44402</td>\n",
       "      <td>16.98140</td>\n",
       "      <td>Intrepid (LM-6)</td>\n",
       "      <td>15103</td>\n",
       "      <td>-1342.0</td>\n",
       "      <td>Casper (CM-113)</td>\n",
       "      <td>5758</td>\n",
       "      <td>198.0</td>\n",
       "      <td>20861</td>\n",
       "      <td>-1144.0</td>\n",
       "      <td>0.479563</td>\n",
       "      <td>0.005246</td>\n",
       "      <td>0.002516</td>\n",
       "    </tr>\n",
       "  </tbody>\n",
       "</table>\n",
       "</div>"
      ]
     },
     "metadata": {},
     "execution_count": 43
    }
   ],
   "metadata": {}
  },
  {
   "cell_type": "markdown",
   "source": [
    "**Guardado de las proporciones**\r\n",
    "\r\n",
    "Después, se puede usar la función mean() para tomar el promedio de todas esas proporciones entre todas las misiones."
   ],
   "metadata": {}
  },
  {
   "cell_type": "code",
   "execution_count": 44,
   "source": [
    "crewedArea_payload_ratio = missions['Crewed area : Payload'].mean()\r\n",
    "sample_crewedArea_ratio = missions['Sample : Crewed area'].mean()\r\n",
    "sample_payload_ratio = missions['Sample : Payload'].mean()\r\n",
    "print(crewedArea_payload_ratio)\r\n",
    "print(sample_crewedArea_ratio)\r\n",
    "print(sample_payload_ratio)"
   ],
   "outputs": [
    {
     "output_type": "stream",
     "name": "stdout",
     "text": [
      "0.49630268199233724\n",
      "0.0028946732226251396\n",
      "0.0014369195019157093\n"
     ]
    }
   ],
   "metadata": {}
  },
  {
   "cell_type": "markdown",
   "source": [
    "Luego, estas proporciones se pueden usar para predecir la capacidad de Artemis para transportar muestras"
   ],
   "metadata": {}
  },
  {
   "cell_type": "markdown",
   "source": [
    "## **Predicción de la capacidad de transportar muestras de Artemis**\r\n",
    "\r\n",
    "**Creación de un elemento dataframe para la misión Artemis**\r\n",
    "\r\n",
    "No se tienen todos los detalles sobre la misión Artemis, pero se sabe que, actualmente, en cada misión el cohete realizará ciclos de tres iteraciones (esto es teniendo en cuenta los lanzamientos tradicionales que realizo la NASA en sus misiones Apolo) Cada cohete tendrá una versión tripulada y otra para transporte de mercancías. Para los fines de este módulo, solo se centrará en los tres cohetes diseñados para albergar a la tripulación, y alinearlos más con las misiones Apolo. También se sabe que la carga prevista del Sistema de lanzamiento espacial (SLS) crecerá en cada iteración, pero que el peso actual de Orion (la combinación de los módulos de mando y lunar) tiene un peso estimado en la actualidad.\r\n",
    "\r\n",
    "Una vez más, los módulos de mando y lunar se denominarán Área de la tripulación, y se puede crear un elemento dataframe con la información disponible sobre las tres misiones tripuladas:"
   ],
   "metadata": {}
  },
  {
   "cell_type": "code",
   "execution_count": 45,
   "source": [
    "artemis_crewedArea = 26520\r\n",
    "artemis_mission = pd.DataFrame({'Mission':['artemis1','artemis1b','artemis2'],\r\n",
    "                                 'Total weight (kg)':[artemis_crewedArea,artemis_crewedArea,artemis_crewedArea],\r\n",
    "                                 'Payload (kg)':[26988, 37965, 42955]})\r\n",
    "artemis_mission"
   ],
   "outputs": [
    {
     "output_type": "execute_result",
     "data": {
      "text/plain": [
       "     Mission  Total weight (kg)  Payload (kg)\n",
       "0   artemis1              26520         26988\n",
       "1  artemis1b              26520         37965\n",
       "2   artemis2              26520         42955"
      ],
      "text/html": [
       "<div>\n",
       "<style scoped>\n",
       "    .dataframe tbody tr th:only-of-type {\n",
       "        vertical-align: middle;\n",
       "    }\n",
       "\n",
       "    .dataframe tbody tr th {\n",
       "        vertical-align: top;\n",
       "    }\n",
       "\n",
       "    .dataframe thead th {\n",
       "        text-align: right;\n",
       "    }\n",
       "</style>\n",
       "<table border=\"1\" class=\"dataframe\">\n",
       "  <thead>\n",
       "    <tr style=\"text-align: right;\">\n",
       "      <th></th>\n",
       "      <th>Mission</th>\n",
       "      <th>Total weight (kg)</th>\n",
       "      <th>Payload (kg)</th>\n",
       "    </tr>\n",
       "  </thead>\n",
       "  <tbody>\n",
       "    <tr>\n",
       "      <th>0</th>\n",
       "      <td>artemis1</td>\n",
       "      <td>26520</td>\n",
       "      <td>26988</td>\n",
       "    </tr>\n",
       "    <tr>\n",
       "      <th>1</th>\n",
       "      <td>artemis1b</td>\n",
       "      <td>26520</td>\n",
       "      <td>37965</td>\n",
       "    </tr>\n",
       "    <tr>\n",
       "      <th>2</th>\n",
       "      <td>artemis2</td>\n",
       "      <td>26520</td>\n",
       "      <td>42955</td>\n",
       "    </tr>\n",
       "  </tbody>\n",
       "</table>\n",
       "</div>"
      ]
     },
     "metadata": {},
     "execution_count": 45
    }
   ],
   "metadata": {}
  },
  {
   "cell_type": "markdown",
   "source": [
    "Se puede calcular el peso de las muestras en función de las proporciones determinadas a partir de las misiones Artemis:"
   ],
   "metadata": {}
  },
  {
   "cell_type": "code",
   "execution_count": 46,
   "source": [
    "artemis_mission['Sample weight from total (kg)'] = artemis_mission['Total weight (kg)'] * sample_crewedArea_ratio\r\n",
    "artemis_mission['Sample weight from payload (kg)'] = artemis_mission['Payload (kg)'] * sample_payload_ratio\r\n",
    "artemis_mission"
   ],
   "outputs": [
    {
     "output_type": "execute_result",
     "data": {
      "text/plain": [
       "     Mission  Total weight (kg)  Payload (kg)  Sample weight from total (kg)  \\\n",
       "0   artemis1              26520         26988                      76.766734   \n",
       "1  artemis1b              26520         37965                      76.766734   \n",
       "2   artemis2              26520         42955                      76.766734   \n",
       "\n",
       "   Sample weight from payload (kg)  \n",
       "0                        38.779584  \n",
       "1                        54.552649  \n",
       "2                        61.722877  "
      ],
      "text/html": [
       "<div>\n",
       "<style scoped>\n",
       "    .dataframe tbody tr th:only-of-type {\n",
       "        vertical-align: middle;\n",
       "    }\n",
       "\n",
       "    .dataframe tbody tr th {\n",
       "        vertical-align: top;\n",
       "    }\n",
       "\n",
       "    .dataframe thead th {\n",
       "        text-align: right;\n",
       "    }\n",
       "</style>\n",
       "<table border=\"1\" class=\"dataframe\">\n",
       "  <thead>\n",
       "    <tr style=\"text-align: right;\">\n",
       "      <th></th>\n",
       "      <th>Mission</th>\n",
       "      <th>Total weight (kg)</th>\n",
       "      <th>Payload (kg)</th>\n",
       "      <th>Sample weight from total (kg)</th>\n",
       "      <th>Sample weight from payload (kg)</th>\n",
       "    </tr>\n",
       "  </thead>\n",
       "  <tbody>\n",
       "    <tr>\n",
       "      <th>0</th>\n",
       "      <td>artemis1</td>\n",
       "      <td>26520</td>\n",
       "      <td>26988</td>\n",
       "      <td>76.766734</td>\n",
       "      <td>38.779584</td>\n",
       "    </tr>\n",
       "    <tr>\n",
       "      <th>1</th>\n",
       "      <td>artemis1b</td>\n",
       "      <td>26520</td>\n",
       "      <td>37965</td>\n",
       "      <td>76.766734</td>\n",
       "      <td>54.552649</td>\n",
       "    </tr>\n",
       "    <tr>\n",
       "      <th>2</th>\n",
       "      <td>artemis2</td>\n",
       "      <td>26520</td>\n",
       "      <td>42955</td>\n",
       "      <td>76.766734</td>\n",
       "      <td>61.722877</td>\n",
       "    </tr>\n",
       "  </tbody>\n",
       "</table>\n",
       "</div>"
      ]
     },
     "metadata": {},
     "execution_count": 46
    }
   ],
   "metadata": {}
  },
  {
   "cell_type": "markdown",
   "source": [
    "Por último, se puede obtener el promedio de las dos predicciones:"
   ],
   "metadata": {}
  },
  {
   "cell_type": "code",
   "execution_count": 47,
   "source": [
    "artemis_mission['Estimated sample weight (kg)'] = (artemis_mission['Sample weight from payload (kg)'] + artemis_mission['Sample weight from total (kg)'])/2\r\n",
    "artemis_mission"
   ],
   "outputs": [
    {
     "output_type": "execute_result",
     "data": {
      "text/plain": [
       "     Mission  Total weight (kg)  Payload (kg)  Sample weight from total (kg)  \\\n",
       "0   artemis1              26520         26988                      76.766734   \n",
       "1  artemis1b              26520         37965                      76.766734   \n",
       "2   artemis2              26520         42955                      76.766734   \n",
       "\n",
       "   Sample weight from payload (kg)  Estimated sample weight (kg)  \n",
       "0                        38.779584                     57.773159  \n",
       "1                        54.552649                     65.659691  \n",
       "2                        61.722877                     69.244806  "
      ],
      "text/html": [
       "<div>\n",
       "<style scoped>\n",
       "    .dataframe tbody tr th:only-of-type {\n",
       "        vertical-align: middle;\n",
       "    }\n",
       "\n",
       "    .dataframe tbody tr th {\n",
       "        vertical-align: top;\n",
       "    }\n",
       "\n",
       "    .dataframe thead th {\n",
       "        text-align: right;\n",
       "    }\n",
       "</style>\n",
       "<table border=\"1\" class=\"dataframe\">\n",
       "  <thead>\n",
       "    <tr style=\"text-align: right;\">\n",
       "      <th></th>\n",
       "      <th>Mission</th>\n",
       "      <th>Total weight (kg)</th>\n",
       "      <th>Payload (kg)</th>\n",
       "      <th>Sample weight from total (kg)</th>\n",
       "      <th>Sample weight from payload (kg)</th>\n",
       "      <th>Estimated sample weight (kg)</th>\n",
       "    </tr>\n",
       "  </thead>\n",
       "  <tbody>\n",
       "    <tr>\n",
       "      <th>0</th>\n",
       "      <td>artemis1</td>\n",
       "      <td>26520</td>\n",
       "      <td>26988</td>\n",
       "      <td>76.766734</td>\n",
       "      <td>38.779584</td>\n",
       "      <td>57.773159</td>\n",
       "    </tr>\n",
       "    <tr>\n",
       "      <th>1</th>\n",
       "      <td>artemis1b</td>\n",
       "      <td>26520</td>\n",
       "      <td>37965</td>\n",
       "      <td>76.766734</td>\n",
       "      <td>54.552649</td>\n",
       "      <td>65.659691</td>\n",
       "    </tr>\n",
       "    <tr>\n",
       "      <th>2</th>\n",
       "      <td>artemis2</td>\n",
       "      <td>26520</td>\n",
       "      <td>42955</td>\n",
       "      <td>76.766734</td>\n",
       "      <td>61.722877</td>\n",
       "      <td>69.244806</td>\n",
       "    </tr>\n",
       "  </tbody>\n",
       "</table>\n",
       "</div>"
      ]
     },
     "metadata": {},
     "execution_count": 47
    }
   ],
   "metadata": {}
  },
  {
   "cell_type": "markdown",
   "source": [
    "## **Prioridad de la obtención de muestras de rocas lunares en función de los datos**\r\n",
    "\r\n",
    "El siguiente paso sera tratar de responder que tipo de muestras deberian traer en las misiones Artemis. Ya tenemos los datos previos de lo que nos aportaron las misiones Apolo, con sus respectivos tipos de piedras y cantidad de cada una (kg), tambien tenemos una idea aproximada de la carga que podria traernos Artemis, entonces podriamos saber ahora cuantos Kg de cada tipo de piedra deberia traernos Artemis para tener suficientes muestras sin tener demasiadas muestras repetidas."
   ],
   "metadata": {}
  },
  {
   "cell_type": "code",
   "execution_count": 48,
   "source": [
    "rock_samples['Remaining (kg)'] = rock_samples['Weight (kg)'] * (rock_samples['Pristine (%)'] * .01)\r\n",
    "rock_samples.head()"
   ],
   "outputs": [
    {
     "output_type": "execute_result",
     "data": {
      "text/plain": [
       "      ID   Mission    Type   Subtype  Weight (kg)  Pristine (%)  \\\n",
       "0  10001  Apollo11    Soil  Unsieved       0.1258         88.36   \n",
       "1  10002  Apollo11    Soil  Unsieved       5.6290         93.73   \n",
       "2  10003  Apollo11  Basalt  Ilmenite       0.2130         65.56   \n",
       "3  10004  Apollo11    Core  Unsieved       0.0448         71.76   \n",
       "4  10005  Apollo11    Core  Unsieved       0.0534         40.31   \n",
       "\n",
       "   Remaining (kg)  \n",
       "0        0.111157  \n",
       "1        5.276062  \n",
       "2        0.139643  \n",
       "3        0.032148  \n",
       "4        0.021526  "
      ],
      "text/html": [
       "<div>\n",
       "<style scoped>\n",
       "    .dataframe tbody tr th:only-of-type {\n",
       "        vertical-align: middle;\n",
       "    }\n",
       "\n",
       "    .dataframe tbody tr th {\n",
       "        vertical-align: top;\n",
       "    }\n",
       "\n",
       "    .dataframe thead th {\n",
       "        text-align: right;\n",
       "    }\n",
       "</style>\n",
       "<table border=\"1\" class=\"dataframe\">\n",
       "  <thead>\n",
       "    <tr style=\"text-align: right;\">\n",
       "      <th></th>\n",
       "      <th>ID</th>\n",
       "      <th>Mission</th>\n",
       "      <th>Type</th>\n",
       "      <th>Subtype</th>\n",
       "      <th>Weight (kg)</th>\n",
       "      <th>Pristine (%)</th>\n",
       "      <th>Remaining (kg)</th>\n",
       "    </tr>\n",
       "  </thead>\n",
       "  <tbody>\n",
       "    <tr>\n",
       "      <th>0</th>\n",
       "      <td>10001</td>\n",
       "      <td>Apollo11</td>\n",
       "      <td>Soil</td>\n",
       "      <td>Unsieved</td>\n",
       "      <td>0.1258</td>\n",
       "      <td>88.36</td>\n",
       "      <td>0.111157</td>\n",
       "    </tr>\n",
       "    <tr>\n",
       "      <th>1</th>\n",
       "      <td>10002</td>\n",
       "      <td>Apollo11</td>\n",
       "      <td>Soil</td>\n",
       "      <td>Unsieved</td>\n",
       "      <td>5.6290</td>\n",
       "      <td>93.73</td>\n",
       "      <td>5.276062</td>\n",
       "    </tr>\n",
       "    <tr>\n",
       "      <th>2</th>\n",
       "      <td>10003</td>\n",
       "      <td>Apollo11</td>\n",
       "      <td>Basalt</td>\n",
       "      <td>Ilmenite</td>\n",
       "      <td>0.2130</td>\n",
       "      <td>65.56</td>\n",
       "      <td>0.139643</td>\n",
       "    </tr>\n",
       "    <tr>\n",
       "      <th>3</th>\n",
       "      <td>10004</td>\n",
       "      <td>Apollo11</td>\n",
       "      <td>Core</td>\n",
       "      <td>Unsieved</td>\n",
       "      <td>0.0448</td>\n",
       "      <td>71.76</td>\n",
       "      <td>0.032148</td>\n",
       "    </tr>\n",
       "    <tr>\n",
       "      <th>4</th>\n",
       "      <td>10005</td>\n",
       "      <td>Apollo11</td>\n",
       "      <td>Core</td>\n",
       "      <td>Unsieved</td>\n",
       "      <td>0.0534</td>\n",
       "      <td>40.31</td>\n",
       "      <td>0.021526</td>\n",
       "    </tr>\n",
       "  </tbody>\n",
       "</table>\n",
       "</div>"
      ]
     },
     "metadata": {},
     "execution_count": 48
    }
   ],
   "metadata": {}
  },
  {
   "cell_type": "markdown",
   "source": [
    "En este momento, no resulta útil examinar **head()** ni **info()** en el elemento dataframe rock_samples. Con más de 2000 muestras, es complicado comprender cuáles son los valores. Para ello, puede usar la función **describe()**:"
   ],
   "metadata": {}
  },
  {
   "cell_type": "code",
   "execution_count": 49,
   "source": [
    "rock_samples.describe()"
   ],
   "outputs": [
    {
     "output_type": "execute_result",
     "data": {
      "text/plain": [
       "                 ID  Weight (kg)  Pristine (%)  Remaining (kg)\n",
       "count   2229.000000  2229.000000   2229.000000     2229.000000\n",
       "mean   52058.432032     0.168253     84.512764        0.138103\n",
       "std    26207.651471     0.637286     22.057299        0.525954\n",
       "min    10001.000000     0.000000      0.000000        0.000000\n",
       "25%    15437.000000     0.003000     80.010000        0.002432\n",
       "50%    65527.000000     0.010200     92.300000        0.008530\n",
       "75%    72142.000000     0.093490     98.140000        0.078240\n",
       "max    79537.000000    11.729000    180.000000       11.169527"
      ],
      "text/html": [
       "<div>\n",
       "<style scoped>\n",
       "    .dataframe tbody tr th:only-of-type {\n",
       "        vertical-align: middle;\n",
       "    }\n",
       "\n",
       "    .dataframe tbody tr th {\n",
       "        vertical-align: top;\n",
       "    }\n",
       "\n",
       "    .dataframe thead th {\n",
       "        text-align: right;\n",
       "    }\n",
       "</style>\n",
       "<table border=\"1\" class=\"dataframe\">\n",
       "  <thead>\n",
       "    <tr style=\"text-align: right;\">\n",
       "      <th></th>\n",
       "      <th>ID</th>\n",
       "      <th>Weight (kg)</th>\n",
       "      <th>Pristine (%)</th>\n",
       "      <th>Remaining (kg)</th>\n",
       "    </tr>\n",
       "  </thead>\n",
       "  <tbody>\n",
       "    <tr>\n",
       "      <th>count</th>\n",
       "      <td>2229.000000</td>\n",
       "      <td>2229.000000</td>\n",
       "      <td>2229.000000</td>\n",
       "      <td>2229.000000</td>\n",
       "    </tr>\n",
       "    <tr>\n",
       "      <th>mean</th>\n",
       "      <td>52058.432032</td>\n",
       "      <td>0.168253</td>\n",
       "      <td>84.512764</td>\n",
       "      <td>0.138103</td>\n",
       "    </tr>\n",
       "    <tr>\n",
       "      <th>std</th>\n",
       "      <td>26207.651471</td>\n",
       "      <td>0.637286</td>\n",
       "      <td>22.057299</td>\n",
       "      <td>0.525954</td>\n",
       "    </tr>\n",
       "    <tr>\n",
       "      <th>min</th>\n",
       "      <td>10001.000000</td>\n",
       "      <td>0.000000</td>\n",
       "      <td>0.000000</td>\n",
       "      <td>0.000000</td>\n",
       "    </tr>\n",
       "    <tr>\n",
       "      <th>25%</th>\n",
       "      <td>15437.000000</td>\n",
       "      <td>0.003000</td>\n",
       "      <td>80.010000</td>\n",
       "      <td>0.002432</td>\n",
       "    </tr>\n",
       "    <tr>\n",
       "      <th>50%</th>\n",
       "      <td>65527.000000</td>\n",
       "      <td>0.010200</td>\n",
       "      <td>92.300000</td>\n",
       "      <td>0.008530</td>\n",
       "    </tr>\n",
       "    <tr>\n",
       "      <th>75%</th>\n",
       "      <td>72142.000000</td>\n",
       "      <td>0.093490</td>\n",
       "      <td>98.140000</td>\n",
       "      <td>0.078240</td>\n",
       "    </tr>\n",
       "    <tr>\n",
       "      <th>max</th>\n",
       "      <td>79537.000000</td>\n",
       "      <td>11.729000</td>\n",
       "      <td>180.000000</td>\n",
       "      <td>11.169527</td>\n",
       "    </tr>\n",
       "  </tbody>\n",
       "</table>\n",
       "</div>"
      ]
     },
     "metadata": {},
     "execution_count": 49
    }
   ],
   "metadata": {}
  },
  {
   "cell_type": "markdown",
   "source": [
    "Los datos que observamos es que cada muestra pesa (de media) 0,16 Kg y que queda un 84% de la cantidad obtenido por las misiones Apolo, estos valores nos ayudan a seleccionar que tipo de muestras deberia traer Artemis."
   ],
   "metadata": {}
  },
  {
   "cell_type": "code",
   "execution_count": 50,
   "source": [
    "low_samples = rock_samples.loc[(rock_samples['Weight (kg)'] >= .16) & (rock_samples['Pristine (%)'] <= 50)]\r\n",
    "low_samples.head()"
   ],
   "outputs": [
    {
     "output_type": "execute_result",
     "data": {
      "text/plain": [
       "       ID   Mission     Type   Subtype  Weight (kg)  Pristine (%)  \\\n",
       "11  10017  Apollo11   Basalt  Ilmenite        0.973         43.71   \n",
       "14  10020  Apollo11   Basalt  Ilmenite        0.425         27.88   \n",
       "15  10021  Apollo11  Breccia  Regolith        0.250         30.21   \n",
       "29  10045  Apollo11   Basalt   Olivine        0.185         12.13   \n",
       "37  10057  Apollo11   Basalt  Ilmenite        0.919         35.15   \n",
       "\n",
       "    Remaining (kg)  \n",
       "11        0.425298  \n",
       "14        0.118490  \n",
       "15        0.075525  \n",
       "29        0.022441  \n",
       "37        0.323028  "
      ],
      "text/html": [
       "<div>\n",
       "<style scoped>\n",
       "    .dataframe tbody tr th:only-of-type {\n",
       "        vertical-align: middle;\n",
       "    }\n",
       "\n",
       "    .dataframe tbody tr th {\n",
       "        vertical-align: top;\n",
       "    }\n",
       "\n",
       "    .dataframe thead th {\n",
       "        text-align: right;\n",
       "    }\n",
       "</style>\n",
       "<table border=\"1\" class=\"dataframe\">\n",
       "  <thead>\n",
       "    <tr style=\"text-align: right;\">\n",
       "      <th></th>\n",
       "      <th>ID</th>\n",
       "      <th>Mission</th>\n",
       "      <th>Type</th>\n",
       "      <th>Subtype</th>\n",
       "      <th>Weight (kg)</th>\n",
       "      <th>Pristine (%)</th>\n",
       "      <th>Remaining (kg)</th>\n",
       "    </tr>\n",
       "  </thead>\n",
       "  <tbody>\n",
       "    <tr>\n",
       "      <th>11</th>\n",
       "      <td>10017</td>\n",
       "      <td>Apollo11</td>\n",
       "      <td>Basalt</td>\n",
       "      <td>Ilmenite</td>\n",
       "      <td>0.973</td>\n",
       "      <td>43.71</td>\n",
       "      <td>0.425298</td>\n",
       "    </tr>\n",
       "    <tr>\n",
       "      <th>14</th>\n",
       "      <td>10020</td>\n",
       "      <td>Apollo11</td>\n",
       "      <td>Basalt</td>\n",
       "      <td>Ilmenite</td>\n",
       "      <td>0.425</td>\n",
       "      <td>27.88</td>\n",
       "      <td>0.118490</td>\n",
       "    </tr>\n",
       "    <tr>\n",
       "      <th>15</th>\n",
       "      <td>10021</td>\n",
       "      <td>Apollo11</td>\n",
       "      <td>Breccia</td>\n",
       "      <td>Regolith</td>\n",
       "      <td>0.250</td>\n",
       "      <td>30.21</td>\n",
       "      <td>0.075525</td>\n",
       "    </tr>\n",
       "    <tr>\n",
       "      <th>29</th>\n",
       "      <td>10045</td>\n",
       "      <td>Apollo11</td>\n",
       "      <td>Basalt</td>\n",
       "      <td>Olivine</td>\n",
       "      <td>0.185</td>\n",
       "      <td>12.13</td>\n",
       "      <td>0.022441</td>\n",
       "    </tr>\n",
       "    <tr>\n",
       "      <th>37</th>\n",
       "      <td>10057</td>\n",
       "      <td>Apollo11</td>\n",
       "      <td>Basalt</td>\n",
       "      <td>Ilmenite</td>\n",
       "      <td>0.919</td>\n",
       "      <td>35.15</td>\n",
       "      <td>0.323028</td>\n",
       "    </tr>\n",
       "  </tbody>\n",
       "</table>\n",
       "</div>"
      ]
     },
     "metadata": {},
     "execution_count": 50
    }
   ],
   "metadata": {}
  },
  {
   "cell_type": "markdown",
   "source": [
    "Podemos extraer por cantidad cuantas muestras tenemos, eso ayudara a poder hacer una prediccion de que tipos de muestras son las mas \"criticas\" y a las que se les deberia dar prioridad de extraccion."
   ],
   "metadata": {}
  },
  {
   "cell_type": "code",
   "execution_count": 51,
   "source": [
    "low_samples.info()"
   ],
   "outputs": [
    {
     "output_type": "stream",
     "name": "stdout",
     "text": [
      "<class 'pandas.core.frame.DataFrame'>\n",
      "Int64Index: 27 entries, 11 to 2183\n",
      "Data columns (total 7 columns):\n",
      " #   Column          Non-Null Count  Dtype  \n",
      "---  ------          --------------  -----  \n",
      " 0   ID              27 non-null     int64  \n",
      " 1   Mission         27 non-null     object \n",
      " 2   Type            27 non-null     object \n",
      " 3   Subtype         27 non-null     object \n",
      " 4   Weight (kg)     27 non-null     float64\n",
      " 5   Pristine (%)    27 non-null     float64\n",
      " 6   Remaining (kg)  27 non-null     float64\n",
      "dtypes: float64(3), int64(1), object(3)\n",
      "memory usage: 1.7+ KB\n"
     ]
    }
   ],
   "metadata": {}
  },
  {
   "cell_type": "markdown",
   "source": [
    "Lo expresado anteriormente nos dice que son 27 las muestras.\r\n",
    "\r\n",
    "Usaremos la funcion **unique()** para ver cuántos tipos únicos hay en los elementos **dataframe low_samples** y **rock_samples**.\r\n",
    "\r\n",
    "Para **dataframe low_samples**:"
   ],
   "metadata": {}
  },
  {
   "cell_type": "code",
   "execution_count": 52,
   "source": [
    "low_samples.Type.unique()"
   ],
   "outputs": [
    {
     "output_type": "execute_result",
     "data": {
      "text/plain": [
       "array(['Basalt', 'Breccia', 'Soil', 'Core'], dtype=object)"
      ]
     },
     "metadata": {},
     "execution_count": 52
    }
   ],
   "metadata": {}
  },
  {
   "cell_type": "markdown",
   "source": [
    "Para **rock_samples**:"
   ],
   "metadata": {}
  },
  {
   "cell_type": "code",
   "execution_count": 53,
   "source": [
    "rock_samples.Type.unique()"
   ],
   "outputs": [
    {
     "output_type": "execute_result",
     "data": {
      "text/plain": [
       "array(['Soil', 'Basalt', 'Core', 'Breccia', 'Special', 'Crustal'],\n",
       "      dtype=object)"
      ]
     },
     "metadata": {},
     "execution_count": 53
    }
   ],
   "metadata": {}
  },
  {
   "cell_type": "markdown",
   "source": [
    "Se puede ver que, aunque entre todas las muestras se han obtenido seis tipos únicos, aquellas de las que hay menos cantidad solo se corresponden a cuatro tipos únicos. Pero esto no indica todo sobre las muestras en las que se podría centrar. Por ejemplo, en el elemento **dataframe low_samples**, ¿de cuántos de cada uno de los tipos se considera que la cantidad es baja?. Para eso vamos a agrupar las muestra segun tipo de piedra para saber cuantas tenemos de cada una."
   ],
   "metadata": {}
  },
  {
   "cell_type": "code",
   "execution_count": 54,
   "source": [
    "low_samples.groupby('Type')['Weight (kg)'].count()"
   ],
   "outputs": [
    {
     "output_type": "execute_result",
     "data": {
      "text/plain": [
       "Type\n",
       "Basalt     14\n",
       "Breccia     8\n",
       "Core        1\n",
       "Soil        4\n",
       "Name: Weight (kg), dtype: int64"
      ]
     },
     "metadata": {},
     "execution_count": 54
    }
   ],
   "metadata": {}
  },
  {
   "cell_type": "markdown",
   "source": [
    "Los datos obtenidos nos muestran que que hay mas piedras de tipo Basalt y Breccia.Además, debido a la elevada probabilidad de que en cada misión haya que obtener muestras de núcleo y tierra, se puede centrar en los tipos de basalto y brecha para las que es necesario recoger:"
   ],
   "metadata": {}
  },
  {
   "cell_type": "code",
   "execution_count": 58,
   "source": [
    "needed_samples = low_samples[low_samples['Type'].isin(['Basalt', 'Breccia'])]\r\n",
    "needed_samples.info()"
   ],
   "outputs": [
    {
     "output_type": "stream",
     "name": "stdout",
     "text": [
      "<class 'pandas.core.frame.DataFrame'>\n",
      "Int64Index: 22 entries, 11 to 2183\n",
      "Data columns (total 7 columns):\n",
      " #   Column          Non-Null Count  Dtype  \n",
      "---  ------          --------------  -----  \n",
      " 0   ID              22 non-null     int64  \n",
      " 1   Mission         22 non-null     object \n",
      " 2   Type            22 non-null     object \n",
      " 3   Subtype         22 non-null     object \n",
      " 4   Weight (kg)     22 non-null     float64\n",
      " 5   Pristine (%)    22 non-null     float64\n",
      " 6   Remaining (kg)  22 non-null     float64\n",
      "dtypes: float64(3), int64(1), object(3)\n",
      "memory usage: 1.4+ KB\n"
     ]
    }
   ],
   "metadata": {}
  },
  {
   "cell_type": "markdown",
   "source": [
    "Se puede comparar el peso total del elemento dataframe **needed_samples** con el de **rock_samples**. Es decir, se compararán las muestras identificadas con bajas existencias con todas las obtenidas por las misiones Apolo.\r\n",
    "\r\n",
    "Para las muestras que necesitamos:"
   ],
   "metadata": {}
  },
  {
   "cell_type": "code",
   "execution_count": 59,
   "source": [
    "needed_samples.groupby('Type')['Weight (kg)'].sum()"
   ],
   "outputs": [
    {
     "output_type": "execute_result",
     "data": {
      "text/plain": [
       "Type\n",
       "Basalt     17.4234\n",
       "Breccia    10.1185\n",
       "Name: Weight (kg), dtype: float64"
      ]
     },
     "metadata": {},
     "execution_count": 59
    }
   ],
   "metadata": {}
  },
  {
   "cell_type": "markdown",
   "source": [
    "Para las muestras que ya tenemos:"
   ],
   "metadata": {}
  },
  {
   "cell_type": "code",
   "execution_count": 60,
   "source": [
    "rock_samples.groupby('Type')['Weight (kg)'].sum()"
   ],
   "outputs": [
    {
     "output_type": "execute_result",
     "data": {
      "text/plain": [
       "Type\n",
       "Basalt      93.14077\n",
       "Breccia    168.88075\n",
       "Core        19.93587\n",
       "Crustal      4.74469\n",
       "Soil        87.58981\n",
       "Special      0.74410\n",
       "Name: Weight (kg), dtype: float64"
      ]
     },
     "metadata": {},
     "execution_count": 60
    }
   ],
   "metadata": {}
  },
  {
   "cell_type": "markdown",
   "source": [
    "Hay un dato que destaca especialmente: nunca ha habido una gran cantidad de piedras tipo Crustal.\r\n",
    "\r\n",
    "Se pueden agregar piedra de ese tipo al conjunto de muestras necesarias"
   ],
   "metadata": {}
  },
  {
   "cell_type": "code",
   "execution_count": 61,
   "source": [
    "needed_samples = needed_samples.append(rock_samples.loc[rock_samples['Type'] == 'Crustal'])\r\n",
    "needed_samples.info()"
   ],
   "outputs": [
    {
     "output_type": "stream",
     "name": "stdout",
     "text": [
      "<class 'pandas.core.frame.DataFrame'>\n",
      "Int64Index: 68 entries, 11 to 2189\n",
      "Data columns (total 7 columns):\n",
      " #   Column          Non-Null Count  Dtype  \n",
      "---  ------          --------------  -----  \n",
      " 0   ID              68 non-null     int64  \n",
      " 1   Mission         68 non-null     object \n",
      " 2   Type            68 non-null     object \n",
      " 3   Subtype         68 non-null     object \n",
      " 4   Weight (kg)     68 non-null     float64\n",
      " 5   Pristine (%)    68 non-null     float64\n",
      " 6   Remaining (kg)  68 non-null     float64\n",
      "dtypes: float64(3), int64(1), object(3)\n",
      "memory usage: 4.2+ KB\n"
     ]
    }
   ],
   "metadata": {}
  },
  {
   "cell_type": "markdown",
   "source": [
    "## **Resumen de las muestras necesarias:**\r\n",
    "\r\n",
    "El paso final consiste en consolidar todo el conocimiento en una tabla que se pueda compartir con los astronautas. En primer lugar, se necesita una columna para cada tipo de roca que ya se ha identificado como del que se quieren obtener más muestras:"
   ],
   "metadata": {}
  },
  {
   "cell_type": "code",
   "execution_count": 63,
   "source": [
    "needed_samples_overview = pd.DataFrame()\r\n",
    "needed_samples_overview['Type'] = needed_samples.Type.unique()\r\n",
    "needed_samples_overview"
   ],
   "outputs": [
    {
     "output_type": "execute_result",
     "data": {
      "text/plain": [
       "      Type\n",
       "0   Basalt\n",
       "1  Breccia\n",
       "2  Crustal"
      ],
      "text/html": [
       "<div>\n",
       "<style scoped>\n",
       "    .dataframe tbody tr th:only-of-type {\n",
       "        vertical-align: middle;\n",
       "    }\n",
       "\n",
       "    .dataframe tbody tr th {\n",
       "        vertical-align: top;\n",
       "    }\n",
       "\n",
       "    .dataframe thead th {\n",
       "        text-align: right;\n",
       "    }\n",
       "</style>\n",
       "<table border=\"1\" class=\"dataframe\">\n",
       "  <thead>\n",
       "    <tr style=\"text-align: right;\">\n",
       "      <th></th>\n",
       "      <th>Type</th>\n",
       "    </tr>\n",
       "  </thead>\n",
       "  <tbody>\n",
       "    <tr>\n",
       "      <th>0</th>\n",
       "      <td>Basalt</td>\n",
       "    </tr>\n",
       "    <tr>\n",
       "      <th>1</th>\n",
       "      <td>Breccia</td>\n",
       "    </tr>\n",
       "    <tr>\n",
       "      <th>2</th>\n",
       "      <td>Crustal</td>\n",
       "    </tr>\n",
       "  </tbody>\n",
       "</table>\n",
       "</div>"
      ]
     },
     "metadata": {},
     "execution_count": 63
    }
   ],
   "metadata": {}
  },
  {
   "cell_type": "markdown",
   "source": [
    "A continuación, necesita el peso total de cada tipo de roca obtenida originalmente:"
   ],
   "metadata": {}
  },
  {
   "cell_type": "code",
   "execution_count": 64,
   "source": [
    "needed_sample_weights = needed_samples.groupby('Type')['Weight (kg)'].sum().reset_index()\r\n",
    "needed_samples_overview = pd.merge(needed_samples_overview, needed_sample_weights, on='Type')\r\n",
    "needed_samples_overview.rename(columns={'Weight (kg)':'Total weight (kg)'}, inplace=True)\r\n",
    "needed_samples_overview"
   ],
   "outputs": [
    {
     "output_type": "execute_result",
     "data": {
      "text/plain": [
       "      Type  Total weight (kg)\n",
       "0   Basalt           17.42340\n",
       "1  Breccia           10.11850\n",
       "2  Crustal            4.74469"
      ],
      "text/html": [
       "<div>\n",
       "<style scoped>\n",
       "    .dataframe tbody tr th:only-of-type {\n",
       "        vertical-align: middle;\n",
       "    }\n",
       "\n",
       "    .dataframe tbody tr th {\n",
       "        vertical-align: top;\n",
       "    }\n",
       "\n",
       "    .dataframe thead th {\n",
       "        text-align: right;\n",
       "    }\n",
       "</style>\n",
       "<table border=\"1\" class=\"dataframe\">\n",
       "  <thead>\n",
       "    <tr style=\"text-align: right;\">\n",
       "      <th></th>\n",
       "      <th>Type</th>\n",
       "      <th>Total weight (kg)</th>\n",
       "    </tr>\n",
       "  </thead>\n",
       "  <tbody>\n",
       "    <tr>\n",
       "      <th>0</th>\n",
       "      <td>Basalt</td>\n",
       "      <td>17.42340</td>\n",
       "    </tr>\n",
       "    <tr>\n",
       "      <th>1</th>\n",
       "      <td>Breccia</td>\n",
       "      <td>10.11850</td>\n",
       "    </tr>\n",
       "    <tr>\n",
       "      <th>2</th>\n",
       "      <td>Crustal</td>\n",
       "      <td>4.74469</td>\n",
       "    </tr>\n",
       "  </tbody>\n",
       "</table>\n",
       "</div>"
      ]
     },
     "metadata": {},
     "execution_count": 64
    }
   ],
   "metadata": {}
  },
  {
   "cell_type": "markdown",
   "source": [
    "Cuando los astronautas estén en la Luna, una forma de identificar las rocas es por su tamaño. Si se les puede indicar el tamaño estimado de cada tipo de roca, se podría facilitar el proceso de obtención."
   ],
   "metadata": {}
  },
  {
   "cell_type": "code",
   "execution_count": 65,
   "source": [
    "needed_sample_ave_weights = needed_samples.groupby('Type')['Weight (kg)'].mean().reset_index()\r\n",
    "needed_samples_overview = pd.merge(needed_samples_overview, needed_sample_ave_weights, on='Type')\r\n",
    "needed_samples_overview.rename(columns={'Weight (kg)':'Average weight (kg)'}, inplace=True)\r\n",
    "needed_samples_overview"
   ],
   "outputs": [
    {
     "output_type": "execute_result",
     "data": {
      "text/plain": [
       "      Type  Total weight (kg)  Average weight (kg)\n",
       "0   Basalt           17.42340             1.244529\n",
       "1  Breccia           10.11850             1.264812\n",
       "2  Crustal            4.74469             0.103145"
      ],
      "text/html": [
       "<div>\n",
       "<style scoped>\n",
       "    .dataframe tbody tr th:only-of-type {\n",
       "        vertical-align: middle;\n",
       "    }\n",
       "\n",
       "    .dataframe tbody tr th {\n",
       "        vertical-align: top;\n",
       "    }\n",
       "\n",
       "    .dataframe thead th {\n",
       "        text-align: right;\n",
       "    }\n",
       "</style>\n",
       "<table border=\"1\" class=\"dataframe\">\n",
       "  <thead>\n",
       "    <tr style=\"text-align: right;\">\n",
       "      <th></th>\n",
       "      <th>Type</th>\n",
       "      <th>Total weight (kg)</th>\n",
       "      <th>Average weight (kg)</th>\n",
       "    </tr>\n",
       "  </thead>\n",
       "  <tbody>\n",
       "    <tr>\n",
       "      <th>0</th>\n",
       "      <td>Basalt</td>\n",
       "      <td>17.42340</td>\n",
       "      <td>1.244529</td>\n",
       "    </tr>\n",
       "    <tr>\n",
       "      <th>1</th>\n",
       "      <td>Breccia</td>\n",
       "      <td>10.11850</td>\n",
       "      <td>1.264812</td>\n",
       "    </tr>\n",
       "    <tr>\n",
       "      <th>2</th>\n",
       "      <td>Crustal</td>\n",
       "      <td>4.74469</td>\n",
       "      <td>0.103145</td>\n",
       "    </tr>\n",
       "  </tbody>\n",
       "</table>\n",
       "</div>"
      ]
     },
     "metadata": {},
     "execution_count": 65
    }
   ],
   "metadata": {}
  },
  {
   "cell_type": "markdown",
   "source": [
    "Seguramente quiera indicarles a los astronautas qué cantidad de cada tipo quiere que consigan. Por tanto, para los tres tipos que busca, debería tomar el número total de cada tipo y obtener el porcentaje restante de cada tipo de roca."
   ],
   "metadata": {}
  },
  {
   "cell_type": "code",
   "execution_count": 66,
   "source": [
    "total_rock_count = rock_samples.groupby('Type')['ID'].count().reset_index()\r\n",
    "needed_samples_overview = pd.merge(needed_samples_overview, total_rock_count, on='Type')\r\n",
    "needed_samples_overview.rename(columns={'ID':'Number of samples'}, inplace=True)\r\n",
    "total_rocks = needed_samples_overview['Number of samples'].sum()\r\n",
    "needed_samples_overview['Percentage of rocks'] = needed_samples_overview['Number of samples'] / total_rocks\r\n",
    "needed_samples_overview"
   ],
   "outputs": [
    {
     "output_type": "execute_result",
     "data": {
      "text/plain": [
       "      Type  Total weight (kg)  Average weight (kg)  Number of samples  \\\n",
       "0   Basalt           17.42340             1.244529                351   \n",
       "1  Breccia           10.11850             1.264812                959   \n",
       "2  Crustal            4.74469             0.103145                 46   \n",
       "\n",
       "   Percentage of rocks  \n",
       "0             0.258850  \n",
       "1             0.707227  \n",
       "2             0.033923  "
      ],
      "text/html": [
       "<div>\n",
       "<style scoped>\n",
       "    .dataframe tbody tr th:only-of-type {\n",
       "        vertical-align: middle;\n",
       "    }\n",
       "\n",
       "    .dataframe tbody tr th {\n",
       "        vertical-align: top;\n",
       "    }\n",
       "\n",
       "    .dataframe thead th {\n",
       "        text-align: right;\n",
       "    }\n",
       "</style>\n",
       "<table border=\"1\" class=\"dataframe\">\n",
       "  <thead>\n",
       "    <tr style=\"text-align: right;\">\n",
       "      <th></th>\n",
       "      <th>Type</th>\n",
       "      <th>Total weight (kg)</th>\n",
       "      <th>Average weight (kg)</th>\n",
       "      <th>Number of samples</th>\n",
       "      <th>Percentage of rocks</th>\n",
       "    </tr>\n",
       "  </thead>\n",
       "  <tbody>\n",
       "    <tr>\n",
       "      <th>0</th>\n",
       "      <td>Basalt</td>\n",
       "      <td>17.42340</td>\n",
       "      <td>1.244529</td>\n",
       "      <td>351</td>\n",
       "      <td>0.258850</td>\n",
       "    </tr>\n",
       "    <tr>\n",
       "      <th>1</th>\n",
       "      <td>Breccia</td>\n",
       "      <td>10.11850</td>\n",
       "      <td>1.264812</td>\n",
       "      <td>959</td>\n",
       "      <td>0.707227</td>\n",
       "    </tr>\n",
       "    <tr>\n",
       "      <th>2</th>\n",
       "      <td>Crustal</td>\n",
       "      <td>4.74469</td>\n",
       "      <td>0.103145</td>\n",
       "      <td>46</td>\n",
       "      <td>0.033923</td>\n",
       "    </tr>\n",
       "  </tbody>\n",
       "</table>\n",
       "</div>"
      ]
     },
     "metadata": {},
     "execution_count": 66
    }
   ],
   "metadata": {}
  },
  {
   "cell_type": "markdown",
   "source": [
    "Por último, para asociarlo todo a una recomendación para el programa Artemis, se puede determinar el peso medio de las muestras que se han estimado anteriormente."
   ],
   "metadata": {}
  },
  {
   "cell_type": "code",
   "execution_count": 67,
   "source": [
    "artemis_ave_weight = artemis_mission['Estimated sample weight (kg)'].mean()\r\n",
    "artemis_ave_weight"
   ],
   "outputs": [
    {
     "output_type": "execute_result",
     "data": {
      "text/plain": [
       "64.22588520079607"
      ]
     },
     "metadata": {},
     "execution_count": 67
    }
   ],
   "metadata": {}
  },
  {
   "cell_type": "markdown",
   "source": [
    "Este número se puede usar para determinar qué cantidad de cada roca deben intentar conseguir los astronautas:"
   ],
   "metadata": {}
  },
  {
   "cell_type": "code",
   "execution_count": 68,
   "source": [
    "needed_samples_overview['Weight to collect'] = needed_samples_overview['Percentage of rocks'] * artemis_ave_weight\r\n",
    "needed_samples_overview['Rocks to collect'] = needed_samples_overview['Weight to collect'] / needed_samples_overview['Average weight (kg)']\r\n",
    "needed_samples_overview"
   ],
   "outputs": [
    {
     "output_type": "execute_result",
     "data": {
      "text/plain": [
       "      Type  Total weight (kg)  Average weight (kg)  Number of samples  \\\n",
       "0   Basalt           17.42340             1.244529                351   \n",
       "1  Breccia           10.11850             1.264812                959   \n",
       "2  Crustal            4.74469             0.103145                 46   \n",
       "\n",
       "   Percentage of rocks  Weight to collect  Rocks to collect  \n",
       "0             0.258850          16.624842         13.358345  \n",
       "1             0.707227          45.422289         35.912271  \n",
       "2             0.033923           2.178754         21.123128  "
      ],
      "text/html": [
       "<div>\n",
       "<style scoped>\n",
       "    .dataframe tbody tr th:only-of-type {\n",
       "        vertical-align: middle;\n",
       "    }\n",
       "\n",
       "    .dataframe tbody tr th {\n",
       "        vertical-align: top;\n",
       "    }\n",
       "\n",
       "    .dataframe thead th {\n",
       "        text-align: right;\n",
       "    }\n",
       "</style>\n",
       "<table border=\"1\" class=\"dataframe\">\n",
       "  <thead>\n",
       "    <tr style=\"text-align: right;\">\n",
       "      <th></th>\n",
       "      <th>Type</th>\n",
       "      <th>Total weight (kg)</th>\n",
       "      <th>Average weight (kg)</th>\n",
       "      <th>Number of samples</th>\n",
       "      <th>Percentage of rocks</th>\n",
       "      <th>Weight to collect</th>\n",
       "      <th>Rocks to collect</th>\n",
       "    </tr>\n",
       "  </thead>\n",
       "  <tbody>\n",
       "    <tr>\n",
       "      <th>0</th>\n",
       "      <td>Basalt</td>\n",
       "      <td>17.42340</td>\n",
       "      <td>1.244529</td>\n",
       "      <td>351</td>\n",
       "      <td>0.258850</td>\n",
       "      <td>16.624842</td>\n",
       "      <td>13.358345</td>\n",
       "    </tr>\n",
       "    <tr>\n",
       "      <th>1</th>\n",
       "      <td>Breccia</td>\n",
       "      <td>10.11850</td>\n",
       "      <td>1.264812</td>\n",
       "      <td>959</td>\n",
       "      <td>0.707227</td>\n",
       "      <td>45.422289</td>\n",
       "      <td>35.912271</td>\n",
       "    </tr>\n",
       "    <tr>\n",
       "      <th>2</th>\n",
       "      <td>Crustal</td>\n",
       "      <td>4.74469</td>\n",
       "      <td>0.103145</td>\n",
       "      <td>46</td>\n",
       "      <td>0.033923</td>\n",
       "      <td>2.178754</td>\n",
       "      <td>21.123128</td>\n",
       "    </tr>\n",
       "  </tbody>\n",
       "</table>\n",
       "</div>"
      ]
     },
     "metadata": {},
     "execution_count": 68
    }
   ],
   "metadata": {}
  },
  {
   "cell_type": "markdown",
   "source": [
    "Por tanto, es posible que se le indique a los astronautas de la misión Artemis que intenten conseguir **13 piedras de Basalt, 35 de Breccia y 21 Crustal.**"
   ],
   "metadata": {}
  }
 ],
 "metadata": {
  "interpreter": {
   "hash": "24026d3aba629fcef83117a8818ef44727589b884fc8c219cbb87d5bf3da2505"
  },
  "kernelspec": {
   "display_name": "Python 3.8.5 64-bit ('base': conda)",
   "name": "python3"
  },
  "language_info": {
   "codemirror_mode": {
    "name": "ipython",
    "version": 3
   },
   "file_extension": ".py",
   "mimetype": "text/x-python",
   "name": "python",
   "nbconvert_exporter": "python",
   "pygments_lexer": "ipython3",
   "version": "3.8.5"
  },
  "orig_nbformat": 4
 },
 "nbformat": 4,
 "nbformat_minor": 2
}